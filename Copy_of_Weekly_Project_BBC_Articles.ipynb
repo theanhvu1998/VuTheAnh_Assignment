{
  "nbformat": 4,
  "nbformat_minor": 0,
  "metadata": {
    "kernelspec": {
      "display_name": "Python 3",
      "language": "python",
      "name": "python3"
    },
    "language_info": {
      "codemirror_mode": {
        "name": "ipython",
        "version": 3
      },
      "file_extension": ".py",
      "mimetype": "text/x-python",
      "name": "python",
      "nbconvert_exporter": "python",
      "pygments_lexer": "ipython3",
      "version": "3.7.6"
    },
    "colab": {
      "name": "Copy of Weekly-Project-BBC Articles.ipynb",
      "provenance": [],
      "collapsed_sections": [],
      "include_colab_link": true
    }
  },
  "cells": [
    {
      "cell_type": "markdown",
      "metadata": {
        "id": "view-in-github",
        "colab_type": "text"
      },
      "source": [
        "<a href=\"https://colab.research.google.com/github/theanhvu1998/VuTheAnh_Assignment/blob/master/Copy_of_Weekly_Project_BBC_Articles.ipynb\" target=\"_parent\"><img src=\"https://colab.research.google.com/assets/colab-badge.svg\" alt=\"Open In Colab\"/></a>"
      ]
    },
    {
      "cell_type": "markdown",
      "metadata": {
        "id": "s8btHNo7H5Cf",
        "colab_type": "text"
      },
      "source": [
        "# Organize ML projects with Scikit-Learn"
      ]
    },
    {
      "cell_type": "markdown",
      "metadata": {
        "id": "8yK9CuWlH5Ch",
        "colab_type": "text"
      },
      "source": [
        "While Machine Learning is powerful, people often overestimate it: apply machine learning to your project, and all your problems will be solved. In reality, it's not this simple. To be effective, one needs to organize the work very well. In this notebook, we will walkthrough practical aspects of a ML project. To look at the big picture, let's start with a checklist below. It should work reasonably well for most ML projects, but make sure to adapt it to your needs:\n",
        "\n",
        "1. **Define the scope of work and objective**\n",
        "    * How is your solution be used?\n",
        "    * How should performance be measured? Are there any contraints?\n",
        "    * How would the problem be solved manually?\n",
        "    * List the available assumptions, and verify if possible.\n",
        "    \n",
        "    \n",
        "2. **Get the data**\n",
        "    * Document where you can get that data\n",
        "    * Store data in a workspace you can easily access\n",
        "    * Convert the data to a format you can easily manipulate\n",
        "    * Check the overview (size, type, sample, description, statistics)\n",
        "    * Data cleaning\n",
        "    \n",
        "    \n",
        "3. **EDA & Data transformation**\n",
        "    * Study each attribute and its characteristics (missing values, type of distribution, usefulness)\n",
        "    * Visualize the data\n",
        "    * Study the correlations between attributes\n",
        "    * Feature selection, Feature Engineering, Feature scaling\n",
        "    * Write functions for all data transformations\n",
        "    \n",
        "    \n",
        "4. **Train models**\n",
        "    * Automate as much as possible\n",
        "    * Train promising models quickly using standard parameters. Measure and compare their performance\n",
        "    * Analyze the errors the models make\n",
        "    * Shortlist the top three of five most promising models, preferring models that make different types of errors.\n",
        "\n",
        "\n",
        "5. **Fine-tunning**\n",
        "    * Treat data transformation choices as hyperparameters, expecially when you are not sure about them (e.g., replace missing values with zeros or with the median value)\n",
        "    * Unless there are very few hyperparameter value to explore, prefer random search over grid search.\n",
        "    * Try ensemble methods\n",
        "    * Test your final model on the test set to estimate the generalizaiton error. Don't tweak your model again, you would start overfitting the test set."
      ]
    },
    {
      "cell_type": "markdown",
      "metadata": {
        "id": "ofeuKevOH5Ch",
        "colab_type": "text"
      },
      "source": [
        "## Example: Articles categorization"
      ]
    },
    {
      "cell_type": "markdown",
      "metadata": {
        "id": "m2NSUqUEH5Ci",
        "colab_type": "text"
      },
      "source": [
        "### Objectives"
      ]
    },
    {
      "cell_type": "markdown",
      "metadata": {
        "id": "5GttlMG-H5Cj",
        "colab_type": "text"
      },
      "source": [
        "Build a model to determine the categories of articles. "
      ]
    },
    {
      "cell_type": "markdown",
      "metadata": {
        "id": "EwbjWOG1H5Ck",
        "colab_type": "text"
      },
      "source": [
        "### Get Data"
      ]
    },
    {
      "cell_type": "code",
      "metadata": {
        "id": "iWq7xex_H5Ck",
        "colab_type": "code",
        "colab": {}
      },
      "source": [
        "import numpy as np\n",
        "import pandas as pd\n",
        "import seaborn as sns\n",
        "import matplotlib.pyplot as plt\n",
        "%matplotlib inline\n",
        "\n",
        "import warnings\n",
        "warnings.filterwarnings('ignore')\n",
        "\n",
        "sns.set_style(\"whitegrid\")"
      ],
      "execution_count": 344,
      "outputs": []
    },
    {
      "cell_type": "code",
      "metadata": {
        "id": "m9W7Hzt2H5Cp",
        "colab_type": "code",
        "colab": {}
      },
      "source": [
        "bbc = pd.read_csv('https://raw.githubusercontent.com/dhminh1024/practice_datasets/master/bbc-text.csv')"
      ],
      "execution_count": 345,
      "outputs": []
    },
    {
      "cell_type": "code",
      "metadata": {
        "id": "teb1QvD1H5Cs",
        "colab_type": "code",
        "colab": {
          "base_uri": "https://localhost:8080/",
          "height": 204
        },
        "outputId": "f178f6a6-e3c6-4d37-f323-fe1ecda8dbac"
      },
      "source": [
        "bbc.sample(5)"
      ],
      "execution_count": 346,
      "outputs": [
        {
          "output_type": "execute_result",
          "data": {
            "text/html": [
              "<div>\n",
              "<style scoped>\n",
              "    .dataframe tbody tr th:only-of-type {\n",
              "        vertical-align: middle;\n",
              "    }\n",
              "\n",
              "    .dataframe tbody tr th {\n",
              "        vertical-align: top;\n",
              "    }\n",
              "\n",
              "    .dataframe thead th {\n",
              "        text-align: right;\n",
              "    }\n",
              "</style>\n",
              "<table border=\"1\" class=\"dataframe\">\n",
              "  <thead>\n",
              "    <tr style=\"text-align: right;\">\n",
              "      <th></th>\n",
              "      <th>category</th>\n",
              "      <th>text</th>\n",
              "    </tr>\n",
              "  </thead>\n",
              "  <tbody>\n",
              "    <tr>\n",
              "      <th>65</th>\n",
              "      <td>tech</td>\n",
              "      <td>broadband in the uk growing fast high-speed ne...</td>\n",
              "    </tr>\n",
              "    <tr>\n",
              "      <th>1802</th>\n",
              "      <td>sport</td>\n",
              "      <td>souness eyes summer move for owen newcastle bo...</td>\n",
              "    </tr>\n",
              "    <tr>\n",
              "      <th>557</th>\n",
              "      <td>business</td>\n",
              "      <td>us bank boss hails  genius  smith us federal r...</td>\n",
              "    </tr>\n",
              "    <tr>\n",
              "      <th>916</th>\n",
              "      <td>business</td>\n",
              "      <td>enron bosses in $168m payout eighteen former e...</td>\n",
              "    </tr>\n",
              "    <tr>\n",
              "      <th>812</th>\n",
              "      <td>politics</td>\n",
              "      <td>ukip could sue veritas defectors the uk indepe...</td>\n",
              "    </tr>\n",
              "  </tbody>\n",
              "</table>\n",
              "</div>"
            ],
            "text/plain": [
              "      category                                               text\n",
              "65        tech  broadband in the uk growing fast high-speed ne...\n",
              "1802     sport  souness eyes summer move for owen newcastle bo...\n",
              "557   business  us bank boss hails  genius  smith us federal r...\n",
              "916   business  enron bosses in $168m payout eighteen former e...\n",
              "812   politics  ukip could sue veritas defectors the uk indepe..."
            ]
          },
          "metadata": {
            "tags": []
          },
          "execution_count": 346
        }
      ]
    },
    {
      "cell_type": "code",
      "metadata": {
        "id": "KBW_Sg2RH5Cy",
        "colab_type": "code",
        "colab": {
          "base_uri": "https://localhost:8080/",
          "height": 170
        },
        "outputId": "b161b562-6774-4f05-f157-91fd931b2979"
      },
      "source": [
        "bbc.info()"
      ],
      "execution_count": 347,
      "outputs": [
        {
          "output_type": "stream",
          "text": [
            "<class 'pandas.core.frame.DataFrame'>\n",
            "RangeIndex: 2225 entries, 0 to 2224\n",
            "Data columns (total 2 columns):\n",
            " #   Column    Non-Null Count  Dtype \n",
            "---  ------    --------------  ----- \n",
            " 0   category  2225 non-null   object\n",
            " 1   text      2225 non-null   object\n",
            "dtypes: object(2)\n",
            "memory usage: 34.9+ KB\n"
          ],
          "name": "stdout"
        }
      ]
    },
    {
      "cell_type": "markdown",
      "metadata": {
        "id": "gDhInqZa-TsH",
        "colab_type": "text"
      },
      "source": [
        "### EDA & Data transformation"
      ]
    },
    {
      "cell_type": "code",
      "metadata": {
        "id": "dh3VRY5Zxmw6",
        "colab_type": "code",
        "colab": {}
      },
      "source": [
        "# Your code here\n",
        "from sklearn.model_selection import train_test_split\n",
        "\n",
        "train, test = train_test_split(bbc, test_size=0.2)"
      ],
      "execution_count": 348,
      "outputs": []
    },
    {
      "cell_type": "code",
      "metadata": {
        "id": "SLvglfnM-pJs",
        "colab_type": "code",
        "colab": {
          "base_uri": "https://localhost:8080/",
          "height": 34
        },
        "outputId": "58f680b9-ca89-4ef2-bfbd-c26818160df2"
      },
      "source": [
        "print(\"total record:\", len(bbc.index))"
      ],
      "execution_count": 349,
      "outputs": [
        {
          "output_type": "stream",
          "text": [
            "total record: 2225\n"
          ],
          "name": "stdout"
        }
      ]
    },
    {
      "cell_type": "code",
      "metadata": {
        "id": "IRGmNuFRWKTR",
        "colab_type": "code",
        "colab": {
          "base_uri": "https://localhost:8080/",
          "height": 296
        },
        "outputId": "2f822ff2-8595-4cf7-fef4-a07c96b07d1a"
      },
      "source": [
        "sns.countplot(bbc[\"category\"])"
      ],
      "execution_count": 350,
      "outputs": [
        {
          "output_type": "execute_result",
          "data": {
            "text/plain": [
              "<matplotlib.axes._subplots.AxesSubplot at 0x7f5814db4cf8>"
            ]
          },
          "metadata": {
            "tags": []
          },
          "execution_count": 350
        },
        {
          "output_type": "display_data",
          "data": {
            "image/png": "[encoded data removed]",
            "text/plain": [
              "<Figure size 432x288 with 1 Axes>"
            ]
          },
          "metadata": {
            "tags": []
          }
        }
      ]
    },
    {
      "cell_type": "code",
      "metadata": {
        "id": "QH3RZLrFYHJr",
        "colab_type": "code",
        "colab": {}
      },
      "source": [
        "from nltk.stem import PorterStemmer\n",
        "porter = PorterStemmer()\n",
        "\n",
        "def tokenizer_porter(text):\n",
        "  return [porter.stem(word) for word in text.split()]"
      ],
      "execution_count": 351,
      "outputs": []
    },
    {
      "cell_type": "code",
      "metadata": {
        "id": "dmqyZwE7cSzK",
        "colab_type": "code",
        "colab": {
          "base_uri": "https://localhost:8080/",
          "height": 51
        },
        "outputId": "c02aa185-6f1a-4bb0-80b7-ef5ba685fab6"
      },
      "source": [
        "import nltk\n",
        "nltk.download('stopwords')\n",
        "stop = stopwords.words('english')"
      ],
      "execution_count": 352,
      "outputs": [
        {
          "output_type": "stream",
          "text": [
            "[nltk_data] Downloading package stopwords to /root/nltk_data...\n",
            "[nltk_data]   Package stopwords is already up-to-date!\n"
          ],
          "name": "stdout"
        }
      ]
    },
    {
      "cell_type": "code",
      "metadata": {
        "id": "dv1m4Vhhiaf0",
        "colab_type": "code",
        "colab": {}
      },
      "source": [
        "import re\n",
        "def remove_non_word(text):\n",
        "   emoticons = re.findall('(?::|;|=)(?:-)?(?:\\)|\\(|D|P)', text)\n",
        "   text = (re.sub('[\\W]+', ' ', text.lower()) + ' ' + ' '.join(emoticons).replace('-', ''))\n",
        "   return text"
      ],
      "execution_count": 353,
      "outputs": []
    },
    {
      "cell_type": "markdown",
      "metadata": {
        "id": "i9qkEKCYOGCS",
        "colab_type": "text"
      },
      "source": [
        "### Train models"
      ]
    },
    {
      "cell_type": "code",
      "metadata": {
        "id": "GHF1--SVAutb",
        "colab_type": "code",
        "colab": {}
      },
      "source": [
        "from sklearn.pipeline import Pipeline\n",
        "from sklearn.linear_model import LogisticRegression\n",
        "from sklearn.feature_extraction.text import TfidfVectorizer\n",
        "\n",
        "tfidf = TfidfVectorizer(stop_words=stop,\n",
        "                        tokenizer=tokenizer_porter,\n",
        "                        preprocessor=remove_non_word)"
      ],
      "execution_count": 354,
      "outputs": []
    },
    {
      "cell_type": "code",
      "metadata": {
        "id": "byoWJBT54biT",
        "colab_type": "code",
        "colab": {
          "base_uri": "https://localhost:8080/",
          "height": 221
        },
        "outputId": "43759a2e-d32d-461c-e502-eb1b5072b7d1"
      },
      "source": [
        "bbc[\"text\"]"
      ],
      "execution_count": 355,
      "outputs": [
        {
          "output_type": "execute_result",
          "data": {
            "text/plain": [
              "0       tv future in the hands of viewers with home th...\n",
              "1       worldcom boss  left books alone  former worldc...\n",
              "2       tigers wary of farrell  gamble  leicester say ...\n",
              "3       yeading face newcastle in fa cup premiership s...\n",
              "4       ocean s twelve raids box office ocean s twelve...\n",
              "                              ...                        \n",
              "2220    cars pull down us retail figures us retail sal...\n",
              "2221    kilroy unveils immigration policy ex-chatshow ...\n",
              "2222    rem announce new glasgow concert us band rem h...\n",
              "2223    how political squabbles snowball it s become c...\n",
              "2224    souness delight at euro progress boss graeme s...\n",
              "Name: text, Length: 2225, dtype: object"
            ]
          },
          "metadata": {
            "tags": []
          },
          "execution_count": 355
        }
      ]
    },
    {
      "cell_type": "code",
      "metadata": {
        "id": "rgm_egxxAW-t",
        "colab_type": "code",
        "colab": {}
      },
      "source": [
        "logistic  = LogisticRegression(random_state=0)"
      ],
      "execution_count": 356,
      "outputs": []
    },
    {
      "cell_type": "code",
      "metadata": {
        "id": "3AZ06blaBSxP",
        "colab_type": "code",
        "colab": {
          "base_uri": "https://localhost:8080/",
          "height": 408
        },
        "outputId": "952670ff-2113-4b48-84b7-855dd602ad20"
      },
      "source": [
        "pipeline = Pipeline(steps=[('vect', tfidf),\n",
        "                ('logistic', logistic)])\n",
        "pipeline.fit(train[\"text\"], train[\"category\"])"
      ],
      "execution_count": 357,
      "outputs": [
        {
          "output_type": "execute_result",
          "data": {
            "text/plain": [
              "Pipeline(memory=None,\n",
              "         steps=[('vect',\n",
              "                 TfidfVectorizer(analyzer='word', binary=False,\n",
              "                                 decode_error='strict',\n",
              "                                 dtype=<class 'numpy.float64'>,\n",
              "                                 encoding='utf-8', input='content',\n",
              "                                 lowercase=True, max_df=1.0, max_features=None,\n",
              "                                 min_df=1, ngram_range=(1, 1), norm='l2',\n",
              "                                 preprocessor=<function remove_non_word at 0x7f58141410d0>,\n",
              "                                 smooth_idf=True,\n",
              "                                 stop_words=['i', 'me', 'my', 'myself...\n",
              "                                 token_pattern='(?u)\\\\b\\\\w\\\\w+\\\\b',\n",
              "                                 tokenizer=<function tokenizer_porter at 0x7f5814de29d8>,\n",
              "                                 use_idf=True, vocabulary=None)),\n",
              "                ('logistic',\n",
              "                 LogisticRegression(C=1.0, class_weight=None, dual=False,\n",
              "                                    fit_intercept=True, intercept_scaling=1,\n",
              "                                    l1_ratio=None, max_iter=100,\n",
              "                                    multi_class='auto', n_jobs=None,\n",
              "                                    penalty='l2', random_state=0,\n",
              "                                    solver='lbfgs', tol=0.0001, verbose=0,\n",
              "                                    warm_start=False))],\n",
              "         verbose=False)"
            ]
          },
          "metadata": {
            "tags": []
          },
          "execution_count": 357
        }
      ]
    },
    {
      "cell_type": "code",
      "metadata": {
        "id": "PPLcQnIrGA10",
        "colab_type": "code",
        "colab": {
          "base_uri": "https://localhost:8080/",
          "height": 419
        },
        "outputId": "9907156e-e78c-4869-986a-0a5f9b77f285"
      },
      "source": [
        "p_predict = pipeline.predict_proba(test[\"text\"])\n",
        "f_predict = pipeline.predict(test[\"text\"])\n",
        "p_predict = pd.DataFrame(p_predict).reindex().rename(columns={0: \"business\",1: \"entertainment\",2: \"politics\",3: \"sport\",4: \"tech\"}, errors=\"raise\")\n",
        "f_predict = pd.DataFrame(f_predict).rename(columns={0: \"Predict\"}, errors=\"raise\")\n",
        "predict = pd.concat([test[\"text\"].reset_index(), test[\"category\"].reset_index(),f_predict.reindex(),p_predict], axis=1)\n",
        "predict.drop(\"index\", axis=1)"
      ],
      "execution_count": 358,
      "outputs": [
        {
          "output_type": "execute_result",
          "data": {
            "text/html": [
              "<div>\n",
              "<style scoped>\n",
              "    .dataframe tbody tr th:only-of-type {\n",
              "        vertical-align: middle;\n",
              "    }\n",
              "\n",
              "    .dataframe tbody tr th {\n",
              "        vertical-align: top;\n",
              "    }\n",
              "\n",
              "    .dataframe thead th {\n",
              "        text-align: right;\n",
              "    }\n",
              "</style>\n",
              "<table border=\"1\" class=\"dataframe\">\n",
              "  <thead>\n",
              "    <tr style=\"text-align: right;\">\n",
              "      <th></th>\n",
              "      <th>text</th>\n",
              "      <th>category</th>\n",
              "      <th>Predict</th>\n",
              "      <th>business</th>\n",
              "      <th>entertainment</th>\n",
              "      <th>politics</th>\n",
              "      <th>sport</th>\n",
              "      <th>tech</th>\n",
              "    </tr>\n",
              "  </thead>\n",
              "  <tbody>\n",
              "    <tr>\n",
              "      <th>0</th>\n",
              "      <td>schools to take part in mock poll record numbe...</td>\n",
              "      <td>politics</td>\n",
              "      <td>politics</td>\n",
              "      <td>0.100519</td>\n",
              "      <td>0.091243</td>\n",
              "      <td>0.640944</td>\n",
              "      <td>0.070132</td>\n",
              "      <td>0.097161</td>\n",
              "    </tr>\n",
              "    <tr>\n",
              "      <th>1</th>\n",
              "      <td>barclays profits hit record level barclays  th...</td>\n",
              "      <td>business</td>\n",
              "      <td>business</td>\n",
              "      <td>0.954380</td>\n",
              "      <td>0.013269</td>\n",
              "      <td>0.011232</td>\n",
              "      <td>0.009905</td>\n",
              "      <td>0.011213</td>\n",
              "    </tr>\n",
              "    <tr>\n",
              "      <th>2</th>\n",
              "      <td>apple sues to stop product leaks computer firm...</td>\n",
              "      <td>tech</td>\n",
              "      <td>tech</td>\n",
              "      <td>0.146665</td>\n",
              "      <td>0.069890</td>\n",
              "      <td>0.050785</td>\n",
              "      <td>0.061914</td>\n",
              "      <td>0.670746</td>\n",
              "    </tr>\n",
              "    <tr>\n",
              "      <th>3</th>\n",
              "      <td>blind student  hears in colour  a blind studen...</td>\n",
              "      <td>tech</td>\n",
              "      <td>tech</td>\n",
              "      <td>0.075722</td>\n",
              "      <td>0.108242</td>\n",
              "      <td>0.089300</td>\n",
              "      <td>0.060339</td>\n",
              "      <td>0.666397</td>\n",
              "    </tr>\n",
              "    <tr>\n",
              "      <th>4</th>\n",
              "      <td>uk firm faces venezuelan land row venezuelan a...</td>\n",
              "      <td>business</td>\n",
              "      <td>business</td>\n",
              "      <td>0.643779</td>\n",
              "      <td>0.058772</td>\n",
              "      <td>0.145040</td>\n",
              "      <td>0.061756</td>\n",
              "      <td>0.090653</td>\n",
              "    </tr>\n",
              "    <tr>\n",
              "      <th>...</th>\n",
              "      <td>...</td>\n",
              "      <td>...</td>\n",
              "      <td>...</td>\n",
              "      <td>...</td>\n",
              "      <td>...</td>\n",
              "      <td>...</td>\n",
              "      <td>...</td>\n",
              "      <td>...</td>\n",
              "    </tr>\n",
              "    <tr>\n",
              "      <th>440</th>\n",
              "      <td>blair dismisses quit claim report tony blair h...</td>\n",
              "      <td>politics</td>\n",
              "      <td>politics</td>\n",
              "      <td>0.012158</td>\n",
              "      <td>0.007364</td>\n",
              "      <td>0.968266</td>\n",
              "      <td>0.006211</td>\n",
              "      <td>0.006000</td>\n",
              "    </tr>\n",
              "    <tr>\n",
              "      <th>441</th>\n",
              "      <td>consumer spending lifts us growth us economic ...</td>\n",
              "      <td>business</td>\n",
              "      <td>business</td>\n",
              "      <td>0.925973</td>\n",
              "      <td>0.017038</td>\n",
              "      <td>0.019388</td>\n",
              "      <td>0.019490</td>\n",
              "      <td>0.018111</td>\n",
              "    </tr>\n",
              "    <tr>\n",
              "      <th>442</th>\n",
              "      <td>prince crowned  top music earner  prince earne...</td>\n",
              "      <td>entertainment</td>\n",
              "      <td>entertainment</td>\n",
              "      <td>0.109646</td>\n",
              "      <td>0.763785</td>\n",
              "      <td>0.027697</td>\n",
              "      <td>0.056407</td>\n",
              "      <td>0.042465</td>\n",
              "    </tr>\n",
              "    <tr>\n",
              "      <th>443</th>\n",
              "      <td>actress roberts takes spider role actress juli...</td>\n",
              "      <td>entertainment</td>\n",
              "      <td>entertainment</td>\n",
              "      <td>0.036085</td>\n",
              "      <td>0.801688</td>\n",
              "      <td>0.030555</td>\n",
              "      <td>0.059202</td>\n",
              "      <td>0.072469</td>\n",
              "    </tr>\n",
              "    <tr>\n",
              "      <th>444</th>\n",
              "      <td>broadband set to revolutionise tv bt is starti...</td>\n",
              "      <td>tech</td>\n",
              "      <td>tech</td>\n",
              "      <td>0.025708</td>\n",
              "      <td>0.039175</td>\n",
              "      <td>0.025813</td>\n",
              "      <td>0.017287</td>\n",
              "      <td>0.892017</td>\n",
              "    </tr>\n",
              "  </tbody>\n",
              "</table>\n",
              "<p>445 rows × 8 columns</p>\n",
              "</div>"
            ],
            "text/plain": [
              "                                                  text  ...      tech\n",
              "0    schools to take part in mock poll record numbe...  ...  0.097161\n",
              "1    barclays profits hit record level barclays  th...  ...  0.011213\n",
              "2    apple sues to stop product leaks computer firm...  ...  0.670746\n",
              "3    blind student  hears in colour  a blind studen...  ...  0.666397\n",
              "4    uk firm faces venezuelan land row venezuelan a...  ...  0.090653\n",
              "..                                                 ...  ...       ...\n",
              "440  blair dismisses quit claim report tony blair h...  ...  0.006000\n",
              "441  consumer spending lifts us growth us economic ...  ...  0.018111\n",
              "442  prince crowned  top music earner  prince earne...  ...  0.042465\n",
              "443  actress roberts takes spider role actress juli...  ...  0.072469\n",
              "444  broadband set to revolutionise tv bt is starti...  ...  0.892017\n",
              "\n",
              "[445 rows x 8 columns]"
            ]
          },
          "metadata": {
            "tags": []
          },
          "execution_count": 358
        }
      ]
    },
    {
      "cell_type": "markdown",
      "metadata": {
        "id": "KiQ8h2x1GuVh",
        "colab_type": "text"
      },
      "source": [
        "### Evaluate Model"
      ]
    },
    {
      "cell_type": "code",
      "metadata": {
        "id": "A1CbKNPaGttk",
        "colab_type": "code",
        "colab": {
          "base_uri": "https://localhost:8080/",
          "height": 357
        },
        "outputId": "53fa574c-bb65-4c9a-fe4d-594ab47db72e"
      },
      "source": [
        "# Using Test dataset to evaluate model\n",
        "# classification_report\n",
        "# confusion matrix\n",
        "from sklearn.metrics import accuracy_score, confusion_matrix, classification_report\n",
        "\n",
        "# Now apply those above metrics to evaluate your model\n",
        "# Your code here\n",
        "predictions = pipeline.predict(test[\"text\"])\n",
        "print('accuracy:',accuracy_score(test[\"category\"],predictions))\n",
        "print('confusion matrix:\\n',confusion_matrix(test[\"category\"],predictions))\n",
        "print('classification report:\\n',classification_report(test[\"category\"],predictions))"
      ],
      "execution_count": 359,
      "outputs": [
        {
          "output_type": "stream",
          "text": [
            "accuracy: 0.9752808988764045\n",
            "confusion matrix:\n",
            " [[100   0   0   0   1]\n",
            " [  2  75   0   0   0]\n",
            " [  3   1  86   0   1]\n",
            " [  1   0   0 102   0]\n",
            " [  0   2   0   0  71]]\n",
            "classification report:\n",
            "                precision    recall  f1-score   support\n",
            "\n",
            "     business       0.94      0.99      0.97       101\n",
            "entertainment       0.96      0.97      0.97        77\n",
            "     politics       1.00      0.95      0.97        91\n",
            "        sport       1.00      0.99      1.00       103\n",
            "         tech       0.97      0.97      0.97        73\n",
            "\n",
            "     accuracy                           0.98       445\n",
            "    macro avg       0.98      0.97      0.97       445\n",
            " weighted avg       0.98      0.98      0.98       445\n",
            "\n"
          ],
          "name": "stdout"
        }
      ]
    },
    {
      "cell_type": "markdown",
      "metadata": {
        "id": "FceW66WpPVMn",
        "colab_type": "text"
      },
      "source": [
        "### Fine-tunning"
      ]
    },
    {
      "cell_type": "code",
      "metadata": {
        "id": "fj_4yZtJPXoN",
        "colab_type": "code",
        "colab": {
          "base_uri": "https://localhost:8080/",
          "height": 561
        },
        "outputId": "7683e63f-9a39-48a7-e61b-8961f930e8de"
      },
      "source": [
        "from sklearn.model_selection import GridSearchCV\n",
        "parameters = {'logistic__C': [0.001, 0.01, 0.1, 1, 10, 100, 1000],\n",
        "              'logistic__penalty':['l2', 'l1', 'elasticnet']}\n",
        "\n",
        "gridsearch_models = GridSearchCV(pipeline,\n",
        "                                 parameters,\n",
        "                                 scoring='accuracy',\n",
        "                                 cv=5, n_jobs=-1)\n",
        "\n",
        "gridsearch_models.fit(train[\"text\"], train[\"category\"])"
      ],
      "execution_count": 360,
      "outputs": [
        {
          "output_type": "execute_result",
          "data": {
            "text/plain": [
              "GridSearchCV(cv=5, error_score=nan,\n",
              "             estimator=Pipeline(memory=None,\n",
              "                                steps=[('vect',\n",
              "                                        TfidfVectorizer(analyzer='word',\n",
              "                                                        binary=False,\n",
              "                                                        decode_error='strict',\n",
              "                                                        dtype=<class 'numpy.float64'>,\n",
              "                                                        encoding='utf-8',\n",
              "                                                        input='content',\n",
              "                                                        lowercase=True,\n",
              "                                                        max_df=1.0,\n",
              "                                                        max_features=None,\n",
              "                                                        min_df=1,\n",
              "                                                        ngram_range=(1, 1),\n",
              "                                                        norm='l2',\n",
              "                                                        preprocessor=<function remove_non_word at 0x7f58141410d0>,\n",
              "                                                        smoot...\n",
              "                                                           max_iter=100,\n",
              "                                                           multi_class='auto',\n",
              "                                                           n_jobs=None,\n",
              "                                                           penalty='l2',\n",
              "                                                           random_state=0,\n",
              "                                                           solver='lbfgs',\n",
              "                                                           tol=0.0001,\n",
              "                                                           verbose=0,\n",
              "                                                           warm_start=False))],\n",
              "                                verbose=False),\n",
              "             iid='deprecated', n_jobs=-1,\n",
              "             param_grid={'logistic__C': [0.001, 0.01, 0.1, 1, 10, 100, 1000],\n",
              "                         'logistic__penalty': ['l2', 'l1', 'elasticnet']},\n",
              "             pre_dispatch='2*n_jobs', refit=True, return_train_score=False,\n",
              "             scoring='accuracy', verbose=0)"
            ]
          },
          "metadata": {
            "tags": []
          },
          "execution_count": 360
        }
      ]
    },
    {
      "cell_type": "code",
      "metadata": {
        "id": "__gTyZ4l6Z_X",
        "colab_type": "code",
        "colab": {
          "base_uri": "https://localhost:8080/",
          "height": 51
        },
        "outputId": "bb1442a9-e9b1-4008-b707-0fd381907241"
      },
      "source": [
        "print('Best params', gridsearch_models.best_params_)\n",
        "print('Best score', gridsearch_models.best_score_)"
      ],
      "execution_count": 361,
      "outputs": [
        {
          "output_type": "stream",
          "text": [
            "Best params {'logistic__C': 100, 'logistic__penalty': 'l2'}\n",
            "Best score 0.9808988764044944\n"
          ],
          "name": "stdout"
        }
      ]
    },
    {
      "cell_type": "code",
      "metadata": {
        "id": "Hkn40OzKUGuZ",
        "colab_type": "code",
        "colab": {}
      },
      "source": [
        "best_model = gridsearch_models.best_estimator_"
      ],
      "execution_count": 362,
      "outputs": []
    },
    {
      "cell_type": "code",
      "metadata": {
        "id": "Sn0-TRqBUKYm",
        "colab_type": "code",
        "colab": {
          "base_uri": "https://localhost:8080/",
          "height": 419
        },
        "outputId": "2a4945fa-0ea8-4837-94e3-01abf048891b"
      },
      "source": [
        "p_predict = best_model.predict_proba(test[\"text\"])\n",
        "f_predict = best_model.predict(test[\"text\"])\n",
        "p_predict = pd.DataFrame(p_predict).reindex().rename(columns={0: \"business\",1: \"entertainment\",2: \"politics\",3: \"sport\",4: \"tech\"}, errors=\"raise\")\n",
        "f_predict = pd.DataFrame(f_predict).rename(columns={0: \"Predict\"}, errors=\"raise\")\n",
        "predict = pd.concat([test[\"text\"].reset_index(), test[\"category\"].reset_index(),f_predict.reindex(),p_predict], axis=1)\n",
        "predict.drop(\"index\", axis=1)"
      ],
      "execution_count": 363,
      "outputs": [
        {
          "output_type": "execute_result",
          "data": {
            "text/html": [
              "<div>\n",
              "<style scoped>\n",
              "    .dataframe tbody tr th:only-of-type {\n",
              "        vertical-align: middle;\n",
              "    }\n",
              "\n",
              "    .dataframe tbody tr th {\n",
              "        vertical-align: top;\n",
              "    }\n",
              "\n",
              "    .dataframe thead th {\n",
              "        text-align: right;\n",
              "    }\n",
              "</style>\n",
              "<table border=\"1\" class=\"dataframe\">\n",
              "  <thead>\n",
              "    <tr style=\"text-align: right;\">\n",
              "      <th></th>\n",
              "      <th>text</th>\n",
              "      <th>category</th>\n",
              "      <th>Predict</th>\n",
              "      <th>business</th>\n",
              "      <th>entertainment</th>\n",
              "      <th>politics</th>\n",
              "      <th>sport</th>\n",
              "      <th>tech</th>\n",
              "    </tr>\n",
              "  </thead>\n",
              "  <tbody>\n",
              "    <tr>\n",
              "      <th>0</th>\n",
              "      <td>schools to take part in mock poll record numbe...</td>\n",
              "      <td>politics</td>\n",
              "      <td>politics</td>\n",
              "      <td>0.006487</td>\n",
              "      <td>0.005453</td>\n",
              "      <td>0.977572</td>\n",
              "      <td>0.002927</td>\n",
              "      <td>0.007562</td>\n",
              "    </tr>\n",
              "    <tr>\n",
              "      <th>1</th>\n",
              "      <td>barclays profits hit record level barclays  th...</td>\n",
              "      <td>business</td>\n",
              "      <td>business</td>\n",
              "      <td>0.999914</td>\n",
              "      <td>0.000032</td>\n",
              "      <td>0.000021</td>\n",
              "      <td>0.000014</td>\n",
              "      <td>0.000020</td>\n",
              "    </tr>\n",
              "    <tr>\n",
              "      <th>2</th>\n",
              "      <td>apple sues to stop product leaks computer firm...</td>\n",
              "      <td>tech</td>\n",
              "      <td>tech</td>\n",
              "      <td>0.011882</td>\n",
              "      <td>0.002700</td>\n",
              "      <td>0.001117</td>\n",
              "      <td>0.002006</td>\n",
              "      <td>0.982294</td>\n",
              "    </tr>\n",
              "    <tr>\n",
              "      <th>3</th>\n",
              "      <td>blind student  hears in colour  a blind studen...</td>\n",
              "      <td>tech</td>\n",
              "      <td>tech</td>\n",
              "      <td>0.002107</td>\n",
              "      <td>0.006119</td>\n",
              "      <td>0.003152</td>\n",
              "      <td>0.001201</td>\n",
              "      <td>0.987421</td>\n",
              "    </tr>\n",
              "    <tr>\n",
              "      <th>4</th>\n",
              "      <td>uk firm faces venezuelan land row venezuelan a...</td>\n",
              "      <td>business</td>\n",
              "      <td>business</td>\n",
              "      <td>0.983282</td>\n",
              "      <td>0.001641</td>\n",
              "      <td>0.009231</td>\n",
              "      <td>0.001503</td>\n",
              "      <td>0.004342</td>\n",
              "    </tr>\n",
              "    <tr>\n",
              "      <th>...</th>\n",
              "      <td>...</td>\n",
              "      <td>...</td>\n",
              "      <td>...</td>\n",
              "      <td>...</td>\n",
              "      <td>...</td>\n",
              "      <td>...</td>\n",
              "      <td>...</td>\n",
              "      <td>...</td>\n",
              "    </tr>\n",
              "    <tr>\n",
              "      <th>440</th>\n",
              "      <td>blair dismisses quit claim report tony blair h...</td>\n",
              "      <td>politics</td>\n",
              "      <td>politics</td>\n",
              "      <td>0.000025</td>\n",
              "      <td>0.000014</td>\n",
              "      <td>0.999946</td>\n",
              "      <td>0.000007</td>\n",
              "      <td>0.000008</td>\n",
              "    </tr>\n",
              "    <tr>\n",
              "      <th>441</th>\n",
              "      <td>consumer spending lifts us growth us economic ...</td>\n",
              "      <td>business</td>\n",
              "      <td>business</td>\n",
              "      <td>0.998996</td>\n",
              "      <td>0.000233</td>\n",
              "      <td>0.000280</td>\n",
              "      <td>0.000254</td>\n",
              "      <td>0.000237</td>\n",
              "    </tr>\n",
              "    <tr>\n",
              "      <th>442</th>\n",
              "      <td>prince crowned  top music earner  prince earne...</td>\n",
              "      <td>entertainment</td>\n",
              "      <td>entertainment</td>\n",
              "      <td>0.003574</td>\n",
              "      <td>0.995260</td>\n",
              "      <td>0.000202</td>\n",
              "      <td>0.000509</td>\n",
              "      <td>0.000455</td>\n",
              "    </tr>\n",
              "    <tr>\n",
              "      <th>443</th>\n",
              "      <td>actress roberts takes spider role actress juli...</td>\n",
              "      <td>entertainment</td>\n",
              "      <td>entertainment</td>\n",
              "      <td>0.000332</td>\n",
              "      <td>0.994622</td>\n",
              "      <td>0.000435</td>\n",
              "      <td>0.001470</td>\n",
              "      <td>0.003141</td>\n",
              "    </tr>\n",
              "    <tr>\n",
              "      <th>444</th>\n",
              "      <td>broadband set to revolutionise tv bt is starti...</td>\n",
              "      <td>tech</td>\n",
              "      <td>tech</td>\n",
              "      <td>0.000079</td>\n",
              "      <td>0.000513</td>\n",
              "      <td>0.000113</td>\n",
              "      <td>0.000049</td>\n",
              "      <td>0.999246</td>\n",
              "    </tr>\n",
              "  </tbody>\n",
              "</table>\n",
              "<p>445 rows × 8 columns</p>\n",
              "</div>"
            ],
            "text/plain": [
              "                                                  text  ...      tech\n",
              "0    schools to take part in mock poll record numbe...  ...  0.007562\n",
              "1    barclays profits hit record level barclays  th...  ...  0.000020\n",
              "2    apple sues to stop product leaks computer firm...  ...  0.982294\n",
              "3    blind student  hears in colour  a blind studen...  ...  0.987421\n",
              "4    uk firm faces venezuelan land row venezuelan a...  ...  0.004342\n",
              "..                                                 ...  ...       ...\n",
              "440  blair dismisses quit claim report tony blair h...  ...  0.000008\n",
              "441  consumer spending lifts us growth us economic ...  ...  0.000237\n",
              "442  prince crowned  top music earner  prince earne...  ...  0.000455\n",
              "443  actress roberts takes spider role actress juli...  ...  0.003141\n",
              "444  broadband set to revolutionise tv bt is starti...  ...  0.999246\n",
              "\n",
              "[445 rows x 8 columns]"
            ]
          },
          "metadata": {
            "tags": []
          },
          "execution_count": 363
        }
      ]
    },
    {
      "cell_type": "code",
      "metadata": {
        "id": "Cj2giiXOUqQF",
        "colab_type": "code",
        "colab": {
          "base_uri": "https://localhost:8080/",
          "height": 34
        },
        "outputId": "f3ca5934-c8c9-4da6-bd4a-8d485d4fbd42"
      },
      "source": [
        "predictions = best_model.predict(test[\"text\"])\n",
        "print('Accuracy Score:', accuracy_score(test[\"category\"], predictions))"
      ],
      "execution_count": 364,
      "outputs": [
        {
          "output_type": "stream",
          "text": [
            "Accuracy Score: 0.9752808988764045\n"
          ],
          "name": "stdout"
        }
      ]
    },
    {
      "cell_type": "markdown",
      "metadata": {
        "id": "iWggl-I8OonY",
        "colab_type": "text"
      },
      "source": [
        "### Export models\n"
      ]
    },
    {
      "cell_type": "code",
      "metadata": {
        "id": "TavkKrUUOuv-",
        "colab_type": "code",
        "colab": {}
      },
      "source": [
        "import pickle\n",
        "\n",
        "pickle.dump(best_model, open('logisticRegression.pkl', 'wb'))"
      ],
      "execution_count": 365,
      "outputs": []
    },
    {
      "cell_type": "code",
      "metadata": {
        "id": "e9hFMWSUO4yO",
        "colab_type": "code",
        "colab": {
          "base_uri": "https://localhost:8080/",
          "height": 419
        },
        "outputId": "a23be117-8873-4c77-b7e2-bf9b9b5ae13c"
      },
      "source": [
        "with open('logisticRegression.pkl', 'rb') as model:\n",
        "    reload_model = pickle.load(model)\n",
        "preds = reload_model.predict_proba(test[\"text\"])\n",
        "\n",
        "p_predict = clf.predict_proba(test[\"text\"])\n",
        "f_predict = clf.predict(test[\"text\"])\n",
        "p_predict = pd.DataFrame(p_predict).reindex().rename(columns={0: \"business\",1: \"entertainment\",2: \"politics\",3: \"sport\",4: \"tech\"}, errors=\"raise\")\n",
        "f_predict = pd.DataFrame(f_predict).rename(columns={0: \"Predict\"}, errors=\"raise\")\n",
        "predict = pd.concat([test[\"text\"].reset_index(), test[\"category\"].reset_index(),f_predict.reindex(),p_predict], axis=1)\n",
        "predict.drop(\"index\", axis=1)"
      ],
      "execution_count": 366,
      "outputs": [
        {
          "output_type": "execute_result",
          "data": {
            "text/html": [
              "<div>\n",
              "<style scoped>\n",
              "    .dataframe tbody tr th:only-of-type {\n",
              "        vertical-align: middle;\n",
              "    }\n",
              "\n",
              "    .dataframe tbody tr th {\n",
              "        vertical-align: top;\n",
              "    }\n",
              "\n",
              "    .dataframe thead th {\n",
              "        text-align: right;\n",
              "    }\n",
              "</style>\n",
              "<table border=\"1\" class=\"dataframe\">\n",
              "  <thead>\n",
              "    <tr style=\"text-align: right;\">\n",
              "      <th></th>\n",
              "      <th>text</th>\n",
              "      <th>category</th>\n",
              "      <th>Predict</th>\n",
              "      <th>business</th>\n",
              "      <th>entertainment</th>\n",
              "      <th>politics</th>\n",
              "      <th>sport</th>\n",
              "      <th>tech</th>\n",
              "    </tr>\n",
              "  </thead>\n",
              "  <tbody>\n",
              "    <tr>\n",
              "      <th>0</th>\n",
              "      <td>schools to take part in mock poll record numbe...</td>\n",
              "      <td>politics</td>\n",
              "      <td>politics</td>\n",
              "      <td>0.084236</td>\n",
              "      <td>0.075968</td>\n",
              "      <td>0.704837</td>\n",
              "      <td>0.060161</td>\n",
              "      <td>0.074799</td>\n",
              "    </tr>\n",
              "    <tr>\n",
              "      <th>1</th>\n",
              "      <td>barclays profits hit record level barclays  th...</td>\n",
              "      <td>business</td>\n",
              "      <td>business</td>\n",
              "      <td>0.955003</td>\n",
              "      <td>0.013974</td>\n",
              "      <td>0.010405</td>\n",
              "      <td>0.009554</td>\n",
              "      <td>0.011064</td>\n",
              "    </tr>\n",
              "    <tr>\n",
              "      <th>2</th>\n",
              "      <td>apple sues to stop product leaks computer firm...</td>\n",
              "      <td>tech</td>\n",
              "      <td>tech</td>\n",
              "      <td>0.171902</td>\n",
              "      <td>0.072490</td>\n",
              "      <td>0.053404</td>\n",
              "      <td>0.067845</td>\n",
              "      <td>0.634360</td>\n",
              "    </tr>\n",
              "    <tr>\n",
              "      <th>3</th>\n",
              "      <td>blind student  hears in colour  a blind studen...</td>\n",
              "      <td>tech</td>\n",
              "      <td>tech</td>\n",
              "      <td>0.101608</td>\n",
              "      <td>0.142400</td>\n",
              "      <td>0.115838</td>\n",
              "      <td>0.075967</td>\n",
              "      <td>0.564187</td>\n",
              "    </tr>\n",
              "    <tr>\n",
              "      <th>4</th>\n",
              "      <td>uk firm faces venezuelan land row venezuelan a...</td>\n",
              "      <td>business</td>\n",
              "      <td>business</td>\n",
              "      <td>0.645619</td>\n",
              "      <td>0.057940</td>\n",
              "      <td>0.152406</td>\n",
              "      <td>0.059385</td>\n",
              "      <td>0.084651</td>\n",
              "    </tr>\n",
              "    <tr>\n",
              "      <th>...</th>\n",
              "      <td>...</td>\n",
              "      <td>...</td>\n",
              "      <td>...</td>\n",
              "      <td>...</td>\n",
              "      <td>...</td>\n",
              "      <td>...</td>\n",
              "      <td>...</td>\n",
              "      <td>...</td>\n",
              "    </tr>\n",
              "    <tr>\n",
              "      <th>440</th>\n",
              "      <td>blair dismisses quit claim report tony blair h...</td>\n",
              "      <td>politics</td>\n",
              "      <td>politics</td>\n",
              "      <td>0.013168</td>\n",
              "      <td>0.007604</td>\n",
              "      <td>0.966595</td>\n",
              "      <td>0.006715</td>\n",
              "      <td>0.005919</td>\n",
              "    </tr>\n",
              "    <tr>\n",
              "      <th>441</th>\n",
              "      <td>consumer spending lifts us growth us economic ...</td>\n",
              "      <td>business</td>\n",
              "      <td>business</td>\n",
              "      <td>0.926863</td>\n",
              "      <td>0.017012</td>\n",
              "      <td>0.017990</td>\n",
              "      <td>0.019747</td>\n",
              "      <td>0.018388</td>\n",
              "    </tr>\n",
              "    <tr>\n",
              "      <th>442</th>\n",
              "      <td>prince crowned  top music earner  prince earne...</td>\n",
              "      <td>entertainment</td>\n",
              "      <td>entertainment</td>\n",
              "      <td>0.090394</td>\n",
              "      <td>0.790259</td>\n",
              "      <td>0.025744</td>\n",
              "      <td>0.053149</td>\n",
              "      <td>0.040453</td>\n",
              "    </tr>\n",
              "    <tr>\n",
              "      <th>443</th>\n",
              "      <td>actress roberts takes spider role actress juli...</td>\n",
              "      <td>entertainment</td>\n",
              "      <td>entertainment</td>\n",
              "      <td>0.043205</td>\n",
              "      <td>0.793391</td>\n",
              "      <td>0.033976</td>\n",
              "      <td>0.062753</td>\n",
              "      <td>0.066675</td>\n",
              "    </tr>\n",
              "    <tr>\n",
              "      <th>444</th>\n",
              "      <td>broadband set to revolutionise tv bt is starti...</td>\n",
              "      <td>tech</td>\n",
              "      <td>tech</td>\n",
              "      <td>0.020900</td>\n",
              "      <td>0.029668</td>\n",
              "      <td>0.021614</td>\n",
              "      <td>0.014657</td>\n",
              "      <td>0.913161</td>\n",
              "    </tr>\n",
              "  </tbody>\n",
              "</table>\n",
              "<p>445 rows × 8 columns</p>\n",
              "</div>"
            ],
            "text/plain": [
              "                                                  text  ...      tech\n",
              "0    schools to take part in mock poll record numbe...  ...  0.074799\n",
              "1    barclays profits hit record level barclays  th...  ...  0.011064\n",
              "2    apple sues to stop product leaks computer firm...  ...  0.634360\n",
              "3    blind student  hears in colour  a blind studen...  ...  0.564187\n",
              "4    uk firm faces venezuelan land row venezuelan a...  ...  0.084651\n",
              "..                                                 ...  ...       ...\n",
              "440  blair dismisses quit claim report tony blair h...  ...  0.005919\n",
              "441  consumer spending lifts us growth us economic ...  ...  0.018388\n",
              "442  prince crowned  top music earner  prince earne...  ...  0.040453\n",
              "443  actress roberts takes spider role actress juli...  ...  0.066675\n",
              "444  broadband set to revolutionise tv bt is starti...  ...  0.913161\n",
              "\n",
              "[445 rows x 8 columns]"
            ]
          },
          "metadata": {
            "tags": []
          },
          "execution_count": 366
        }
      ]
    }
  ]
}