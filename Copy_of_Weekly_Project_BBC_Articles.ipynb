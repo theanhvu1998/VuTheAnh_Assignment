{
  "nbformat": 4,
  "nbformat_minor": 0,
  "metadata": {
    "kernelspec": {
      "display_name": "Python 3",
      "language": "python",
      "name": "python3"
    },
    "language_info": {
      "codemirror_mode": {
        "name": "ipython",
        "version": 3
      },
      "file_extension": ".py",
      "mimetype": "text/x-python",
      "name": "python",
      "nbconvert_exporter": "python",
      "pygments_lexer": "ipython3",
      "version": "3.7.6"
    },
    "colab": {
      "name": "Copy of Weekly-Project-BBC Articles.ipynb",
      "provenance": [],
      "collapsed_sections": [],
      "include_colab_link": true
    }
  },
  "cells": [
    {
      "cell_type": "markdown",
      "metadata": {
        "id": "view-in-github",
        "colab_type": "text"
      },
      "source": [
        "<a href=\"https://colab.research.google.com/github/theanhvu1998/VuTheAnh_Assignment/blob/master/Copy_of_Weekly_Project_BBC_Articles.ipynb\" target=\"_parent\"><img src=\"https://colab.research.google.com/assets/colab-badge.svg\" alt=\"Open In Colab\"/></a>"
      ]
    },
    {
      "cell_type": "markdown",
      "metadata": {
        "id": "s8btHNo7H5Cf",
        "colab_type": "text"
      },
      "source": [
        "# Organize ML projects with Scikit-Learn"
      ]
    },
    {
      "cell_type": "markdown",
      "metadata": {
        "id": "8yK9CuWlH5Ch",
        "colab_type": "text"
      },
      "source": [
        "While Machine Learning is powerful, people often overestimate it: apply machine learning to your project, and all your problems will be solved. In reality, it's not this simple. To be effective, one needs to organize the work very well. In this notebook, we will walkthrough practical aspects of a ML project. To look at the big picture, let's start with a checklist below. It should work reasonably well for most ML projects, but make sure to adapt it to your needs:\n",
        "\n",
        "1. **Define the scope of work and objective**\n",
        "    * How is your solution be used?\n",
        "    * How should performance be measured? Are there any contraints?\n",
        "    * How would the problem be solved manually?\n",
        "    * List the available assumptions, and verify if possible.\n",
        "    \n",
        "    \n",
        "2. **Get the data**\n",
        "    * Document where you can get that data\n",
        "    * Store data in a workspace you can easily access\n",
        "    * Convert the data to a format you can easily manipulate\n",
        "    * Check the overview (size, type, sample, description, statistics)\n",
        "    * Data cleaning\n",
        "    \n",
        "    \n",
        "3. **EDA & Data transformation**\n",
        "    * Study each attribute and its characteristics (missing values, type of distribution, usefulness)\n",
        "    * Visualize the data\n",
        "    * Study the correlations between attributes\n",
        "    * Feature selection, Feature Engineering, Feature scaling\n",
        "    * Write functions for all data transformations\n",
        "    \n",
        "    \n",
        "4. **Train models**\n",
        "    * Automate as much as possible\n",
        "    * Train promising models quickly using standard parameters. Measure and compare their performance\n",
        "    * Analyze the errors the models make\n",
        "    * Shortlist the top three of five most promising models, preferring models that make different types of errors.\n",
        "\n",
        "\n",
        "5. **Fine-tunning**\n",
        "    * Treat data transformation choices as hyperparameters, expecially when you are not sure about them (e.g., replace missing values with zeros or with the median value)\n",
        "    * Unless there are very few hyperparameter value to explore, prefer random search over grid search.\n",
        "    * Try ensemble methods\n",
        "    * Test your final model on the test set to estimate the generalizaiton error. Don't tweak your model again, you would start overfitting the test set."
      ]
    },
    {
      "cell_type": "markdown",
      "metadata": {
        "id": "ofeuKevOH5Ch",
        "colab_type": "text"
      },
      "source": [
        "## Example: Articles categorization"
      ]
    },
    {
      "cell_type": "markdown",
      "metadata": {
        "id": "m2NSUqUEH5Ci",
        "colab_type": "text"
      },
      "source": [
        "### Objectives"
      ]
    },
    {
      "cell_type": "markdown",
      "metadata": {
        "id": "5GttlMG-H5Cj",
        "colab_type": "text"
      },
      "source": [
        "Build a model to determine the categories of articles. "
      ]
    },
    {
      "cell_type": "markdown",
      "metadata": {
        "id": "EwbjWOG1H5Ck",
        "colab_type": "text"
      },
      "source": [
        "### Get Data"
      ]
    },
    {
      "cell_type": "code",
      "metadata": {
        "id": "iWq7xex_H5Ck",
        "colab_type": "code",
        "colab": {}
      },
      "source": [
        "import numpy as np\n",
        "import pandas as pd\n",
        "import seaborn as sns\n",
        "import matplotlib.pyplot as plt\n",
        "%matplotlib inline\n",
        "\n",
        "import warnings\n",
        "warnings.filterwarnings('ignore')\n",
        "\n",
        "sns.set_style(\"whitegrid\")"
      ],
      "execution_count": 109,
      "outputs": []
    },
    {
      "cell_type": "code",
      "metadata": {
        "id": "m9W7Hzt2H5Cp",
        "colab_type": "code",
        "colab": {}
      },
      "source": [
        "bbc = pd.read_csv('https://raw.githubusercontent.com/dhminh1024/practice_datasets/master/bbc-text.csv')"
      ],
      "execution_count": 110,
      "outputs": []
    },
    {
      "cell_type": "code",
      "metadata": {
        "id": "teb1QvD1H5Cs",
        "colab_type": "code",
        "colab": {
          "base_uri": "https://localhost:8080/",
          "height": 204
        },
        "outputId": "c27c594a-8811-449c-b46d-45e00b14519e"
      },
      "source": [
        "bbc.sample(5)"
      ],
      "execution_count": 111,
      "outputs": [
        {
          "output_type": "execute_result",
          "data": {
            "text/html": [
              "<div>\n",
              "<style scoped>\n",
              "    .dataframe tbody tr th:only-of-type {\n",
              "        vertical-align: middle;\n",
              "    }\n",
              "\n",
              "    .dataframe tbody tr th {\n",
              "        vertical-align: top;\n",
              "    }\n",
              "\n",
              "    .dataframe thead th {\n",
              "        text-align: right;\n",
              "    }\n",
              "</style>\n",
              "<table border=\"1\" class=\"dataframe\">\n",
              "  <thead>\n",
              "    <tr style=\"text-align: right;\">\n",
              "      <th></th>\n",
              "      <th>category</th>\n",
              "      <th>text</th>\n",
              "    </tr>\n",
              "  </thead>\n",
              "  <tbody>\n",
              "    <tr>\n",
              "      <th>980</th>\n",
              "      <td>sport</td>\n",
              "      <td>claxton hunting first major medal british hurd...</td>\n",
              "    </tr>\n",
              "    <tr>\n",
              "      <th>2058</th>\n",
              "      <td>entertainment</td>\n",
              "      <td>new media battle for bafta awards the bbc lead...</td>\n",
              "    </tr>\n",
              "    <tr>\n",
              "      <th>2144</th>\n",
              "      <td>entertainment</td>\n",
              "      <td>rock group korn s guitarist quits the guitaris...</td>\n",
              "    </tr>\n",
              "    <tr>\n",
              "      <th>1935</th>\n",
              "      <td>politics</td>\n",
              "      <td>lib dems stress budget trust gap public trust ...</td>\n",
              "    </tr>\n",
              "    <tr>\n",
              "      <th>1499</th>\n",
              "      <td>entertainment</td>\n",
              "      <td>aviator wins top globes accolades the aviator ...</td>\n",
              "    </tr>\n",
              "  </tbody>\n",
              "</table>\n",
              "</div>"
            ],
            "text/plain": [
              "           category                                               text\n",
              "980           sport  claxton hunting first major medal british hurd...\n",
              "2058  entertainment  new media battle for bafta awards the bbc lead...\n",
              "2144  entertainment  rock group korn s guitarist quits the guitaris...\n",
              "1935       politics  lib dems stress budget trust gap public trust ...\n",
              "1499  entertainment  aviator wins top globes accolades the aviator ..."
            ]
          },
          "metadata": {
            "tags": []
          },
          "execution_count": 111
        }
      ]
    },
    {
      "cell_type": "code",
      "metadata": {
        "id": "KBW_Sg2RH5Cy",
        "colab_type": "code",
        "colab": {
          "base_uri": "https://localhost:8080/",
          "height": 170
        },
        "outputId": "639892c5-469a-4b41-f2e7-0448a00a31e3"
      },
      "source": [
        "bbc.info()"
      ],
      "execution_count": 112,
      "outputs": [
        {
          "output_type": "stream",
          "text": [
            "<class 'pandas.core.frame.DataFrame'>\n",
            "RangeIndex: 2225 entries, 0 to 2224\n",
            "Data columns (total 2 columns):\n",
            " #   Column    Non-Null Count  Dtype \n",
            "---  ------    --------------  ----- \n",
            " 0   category  2225 non-null   object\n",
            " 1   text      2225 non-null   object\n",
            "dtypes: object(2)\n",
            "memory usage: 34.9+ KB\n"
          ],
          "name": "stdout"
        }
      ]
    },
    {
      "cell_type": "markdown",
      "metadata": {
        "id": "gDhInqZa-TsH",
        "colab_type": "text"
      },
      "source": [
        "### EDA & Data transformation"
      ]
    },
    {
      "cell_type": "code",
      "metadata": {
        "id": "dh3VRY5Zxmw6",
        "colab_type": "code",
        "colab": {}
      },
      "source": [
        "# Your code here\n",
        "from sklearn.model_selection import train_test_split\n",
        "\n",
        "train, test = train_test_split(bbc, test_size=0.2)\n"
      ],
      "execution_count": 113,
      "outputs": []
    },
    {
      "cell_type": "code",
      "metadata": {
        "id": "SLvglfnM-pJs",
        "colab_type": "code",
        "colab": {
          "base_uri": "https://localhost:8080/",
          "height": 34
        },
        "outputId": "993ae14b-79e8-4188-d2db-4cdc47230838"
      },
      "source": [
        "print(\"total record:\", len(bbc.index))"
      ],
      "execution_count": 114,
      "outputs": [
        {
          "output_type": "stream",
          "text": [
            "total record: 2225\n"
          ],
          "name": "stdout"
        }
      ]
    },
    {
      "cell_type": "code",
      "metadata": {
        "id": "IRGmNuFRWKTR",
        "colab_type": "code",
        "colab": {
          "base_uri": "https://localhost:8080/",
          "height": 296
        },
        "outputId": "e38326ee-3b90-42a0-8014-77e9d5ccb63c"
      },
      "source": [
        "sns.countplot(bbc[\"category\"])"
      ],
      "execution_count": 115,
      "outputs": [
        {
          "output_type": "execute_result",
          "data": {
            "text/plain": [
              "<matplotlib.axes._subplots.AxesSubplot at 0x7f5819269a58>"
            ]
          },
          "metadata": {
            "tags": []
          },
          "execution_count": 115
        },
        {
          "output_type": "display_data",
          "data": {
            "image/png": "[encoded data removed]",
            "text/plain": [
              "<Figure size 432x288 with 1 Axes>"
            ]
          },
          "metadata": {
            "tags": []
          }
        }
      ]
    },
    {
      "cell_type": "code",
      "metadata": {
        "id": "QH3RZLrFYHJr",
        "colab_type": "code",
        "colab": {}
      },
      "source": [
        "from nltk.stem import PorterStemmer\n",
        "porter = PorterStemmer()\n",
        "\n",
        "def tokenizer_porter(text):\n",
        "  return [porter.stem(word) for word in text.split()]"
      ],
      "execution_count": 116,
      "outputs": []
    },
    {
      "cell_type": "code",
      "metadata": {
        "id": "dmqyZwE7cSzK",
        "colab_type": "code",
        "colab": {
          "base_uri": "https://localhost:8080/",
          "height": 51
        },
        "outputId": "3d6527fc-cfed-4e27-d525-21dbfce6030c"
      },
      "source": [
        "import nltk\n",
        "nltk.download('stopwords')\n",
        "stop = stopwords.words('english')"
      ],
      "execution_count": 117,
      "outputs": [
        {
          "output_type": "stream",
          "text": [
            "[nltk_data] Downloading package stopwords to /root/nltk_data...\n",
            "[nltk_data]   Package stopwords is already up-to-date!\n"
          ],
          "name": "stdout"
        }
      ]
    },
    {
      "cell_type": "code",
      "metadata": {
        "id": "dv1m4Vhhiaf0",
        "colab_type": "code",
        "colab": {}
      },
      "source": [
        "import re\n",
        "def remove_non_word(text):\n",
        "   emoticons = re.findall('(?::|;|=)(?:-)?(?:\\)|\\(|D|P)', text)\n",
        "   text = (re.sub('[\\W]+', ' ', text.lower()) + ' ' + ' '.join(emoticons).replace('-', ''))\n",
        "   return text"
      ],
      "execution_count": 156,
      "outputs": []
    },
    {
      "cell_type": "markdown",
      "metadata": {
        "id": "i9qkEKCYOGCS",
        "colab_type": "text"
      },
      "source": [
        "### Train models"
      ]
    },
    {
      "cell_type": "code",
      "metadata": {
        "id": "GHF1--SVAutb",
        "colab_type": "code",
        "colab": {}
      },
      "source": [
        "from sklearn.pipeline import Pipeline\n",
        "from sklearn.linear_model import LogisticRegression\n",
        "from sklearn.feature_extraction.text import TfidfVectorizer\n",
        "\n",
        "tfidf = TfidfVectorizer(stop_words=stop,\n",
        "                        tokenizer=tokenizer_porter,\n",
        "                        preprocessor=remove_non_word)"
      ],
      "execution_count": 157,
      "outputs": []
    },
    {
      "cell_type": "code",
      "metadata": {
        "id": "rgm_egxxAW-t",
        "colab_type": "code",
        "colab": {}
      },
      "source": [
        "cfl_models = LogisticRegression(random_state=0)"
      ],
      "execution_count": 158,
      "outputs": []
    },
    {
      "cell_type": "code",
      "metadata": {
        "id": "3AZ06blaBSxP",
        "colab_type": "code",
        "colab": {
          "base_uri": "https://localhost:8080/",
          "height": 408
        },
        "outputId": "f21dc626-ac70-4878-f288-d42ec9cc01e1"
      },
      "source": [
        "clf = Pipeline([('vect', tfidf),\n",
        "                ('clf', cfl_models)])\n",
        "clf.fit(train[\"text\"], train[\"category\"])"
      ],
      "execution_count": 159,
      "outputs": [
        {
          "output_type": "execute_result",
          "data": {
            "text/plain": [
              "Pipeline(memory=None,\n",
              "         steps=[('vect',\n",
              "                 TfidfVectorizer(analyzer='word', binary=False,\n",
              "                                 decode_error='strict',\n",
              "                                 dtype=<class 'numpy.float64'>,\n",
              "                                 encoding='utf-8', input='content',\n",
              "                                 lowercase=True, max_df=1.0, max_features=None,\n",
              "                                 min_df=1, ngram_range=(1, 1), norm='l2',\n",
              "                                 preprocessor=<function remove_non_word at 0x7f58196d48c8>,\n",
              "                                 smooth_idf=True,\n",
              "                                 stop_words=['i', 'me', 'my', 'myself...\n",
              "                                 token_pattern='(?u)\\\\b\\\\w\\\\w+\\\\b',\n",
              "                                 tokenizer=<function tokenizer_porter at 0x7f5819198620>,\n",
              "                                 use_idf=True, vocabulary=None)),\n",
              "                ('clf',\n",
              "                 LogisticRegression(C=1.0, class_weight=None, dual=False,\n",
              "                                    fit_intercept=True, intercept_scaling=1,\n",
              "                                    l1_ratio=None, max_iter=100,\n",
              "                                    multi_class='auto', n_jobs=None,\n",
              "                                    penalty='l2', random_state=0,\n",
              "                                    solver='lbfgs', tol=0.0001, verbose=0,\n",
              "                                    warm_start=False))],\n",
              "         verbose=False)"
            ]
          },
          "metadata": {
            "tags": []
          },
          "execution_count": 159
        }
      ]
    },
    {
      "cell_type": "code",
      "metadata": {
        "id": "PPLcQnIrGA10",
        "colab_type": "code",
        "colab": {
          "base_uri": "https://localhost:8080/",
          "height": 419
        },
        "outputId": "11d2792b-ca98-415a-86d9-0b17c31f5265"
      },
      "source": [
        "p_predict = clf.predict_proba(test[\"text\"])\n",
        "f_predict = clf.predict(test[\"text\"])\n",
        "p_predict = pd.DataFrame(p_predict).reindex().rename(columns={0: \"business\",1: \"entertainment\",2: \"politics\",3: \"sport\",4: \"tech\"}, errors=\"raise\")\n",
        "f_predict = pd.DataFrame(f_predict).rename(columns={0: \"Predict\"}, errors=\"raise\")\n",
        "predict = pd.concat([test[\"text\"].reset_index(), test[\"category\"].reset_index(),f_predict.reindex(),p_predict], axis=1)\n",
        "predict.drop(\"index\", axis=1)"
      ],
      "execution_count": 154,
      "outputs": [
        {
          "output_type": "execute_result",
          "data": {
            "text/html": [
              "<div>\n",
              "<style scoped>\n",
              "    .dataframe tbody tr th:only-of-type {\n",
              "        vertical-align: middle;\n",
              "    }\n",
              "\n",
              "    .dataframe tbody tr th {\n",
              "        vertical-align: top;\n",
              "    }\n",
              "\n",
              "    .dataframe thead th {\n",
              "        text-align: right;\n",
              "    }\n",
              "</style>\n",
              "<table border=\"1\" class=\"dataframe\">\n",
              "  <thead>\n",
              "    <tr style=\"text-align: right;\">\n",
              "      <th></th>\n",
              "      <th>text</th>\n",
              "      <th>category</th>\n",
              "      <th>Predict</th>\n",
              "      <th>business</th>\n",
              "      <th>entertainment</th>\n",
              "      <th>politics</th>\n",
              "      <th>sport</th>\n",
              "      <th>tech</th>\n",
              "    </tr>\n",
              "  </thead>\n",
              "  <tbody>\n",
              "    <tr>\n",
              "      <th>0</th>\n",
              "      <td>film row over pirates  cannibals  plans to por...</td>\n",
              "      <td>entertainment</td>\n",
              "      <td>entertainment</td>\n",
              "      <td>0.147554</td>\n",
              "      <td>0.503423</td>\n",
              "      <td>0.163149</td>\n",
              "      <td>0.081903</td>\n",
              "      <td>0.103971</td>\n",
              "    </tr>\n",
              "    <tr>\n",
              "      <th>1</th>\n",
              "      <td>glazer makes new man utd approach malcolm glaz...</td>\n",
              "      <td>business</td>\n",
              "      <td>business</td>\n",
              "      <td>0.584949</td>\n",
              "      <td>0.065104</td>\n",
              "      <td>0.083181</td>\n",
              "      <td>0.215541</td>\n",
              "      <td>0.051226</td>\n",
              "    </tr>\n",
              "    <tr>\n",
              "      <th>2</th>\n",
              "      <td>benitez joy as reds take control liverpool bos...</td>\n",
              "      <td>sport</td>\n",
              "      <td>sport</td>\n",
              "      <td>0.036478</td>\n",
              "      <td>0.029924</td>\n",
              "      <td>0.028605</td>\n",
              "      <td>0.853494</td>\n",
              "      <td>0.051499</td>\n",
              "    </tr>\n",
              "    <tr>\n",
              "      <th>3</th>\n",
              "      <td>connors  rallying cry for british tennis  do y...</td>\n",
              "      <td>sport</td>\n",
              "      <td>sport</td>\n",
              "      <td>0.048560</td>\n",
              "      <td>0.100787</td>\n",
              "      <td>0.099710</td>\n",
              "      <td>0.678901</td>\n",
              "      <td>0.072043</td>\n",
              "    </tr>\n",
              "    <tr>\n",
              "      <th>4</th>\n",
              "      <td>ukraine revisits state sell-offs ukraine is pr...</td>\n",
              "      <td>business</td>\n",
              "      <td>business</td>\n",
              "      <td>0.739217</td>\n",
              "      <td>0.040972</td>\n",
              "      <td>0.133682</td>\n",
              "      <td>0.032798</td>\n",
              "      <td>0.053331</td>\n",
              "    </tr>\n",
              "    <tr>\n",
              "      <th>...</th>\n",
              "      <td>...</td>\n",
              "      <td>...</td>\n",
              "      <td>...</td>\n",
              "      <td>...</td>\n",
              "      <td>...</td>\n",
              "      <td>...</td>\n",
              "      <td>...</td>\n",
              "      <td>...</td>\n",
              "    </tr>\n",
              "    <tr>\n",
              "      <th>440</th>\n",
              "      <td>britons fed up with net service a survey condu...</td>\n",
              "      <td>tech</td>\n",
              "      <td>tech</td>\n",
              "      <td>0.146796</td>\n",
              "      <td>0.042874</td>\n",
              "      <td>0.061998</td>\n",
              "      <td>0.046377</td>\n",
              "      <td>0.701955</td>\n",
              "    </tr>\n",
              "    <tr>\n",
              "      <th>441</th>\n",
              "      <td>us duo in first spam conviction a brother and ...</td>\n",
              "      <td>tech</td>\n",
              "      <td>tech</td>\n",
              "      <td>0.171570</td>\n",
              "      <td>0.143745</td>\n",
              "      <td>0.134462</td>\n",
              "      <td>0.102929</td>\n",
              "      <td>0.447293</td>\n",
              "    </tr>\n",
              "    <tr>\n",
              "      <th>442</th>\n",
              "      <td>wilkinson return  unlikely  jonny wilkinson lo...</td>\n",
              "      <td>sport</td>\n",
              "      <td>sport</td>\n",
              "      <td>0.008693</td>\n",
              "      <td>0.011042</td>\n",
              "      <td>0.010704</td>\n",
              "      <td>0.959611</td>\n",
              "      <td>0.009950</td>\n",
              "    </tr>\n",
              "    <tr>\n",
              "      <th>443</th>\n",
              "      <td>boris opposes mayor apology ken livingstone sh...</td>\n",
              "      <td>politics</td>\n",
              "      <td>politics</td>\n",
              "      <td>0.069141</td>\n",
              "      <td>0.077108</td>\n",
              "      <td>0.682453</td>\n",
              "      <td>0.115049</td>\n",
              "      <td>0.056249</td>\n",
              "    </tr>\n",
              "    <tr>\n",
              "      <th>444</th>\n",
              "      <td>us to rule on yukos refuge call yukos has said...</td>\n",
              "      <td>business</td>\n",
              "      <td>business</td>\n",
              "      <td>0.902501</td>\n",
              "      <td>0.016935</td>\n",
              "      <td>0.039305</td>\n",
              "      <td>0.017468</td>\n",
              "      <td>0.023791</td>\n",
              "    </tr>\n",
              "  </tbody>\n",
              "</table>\n",
              "<p>445 rows × 8 columns</p>\n",
              "</div>"
            ],
            "text/plain": [
              "                                                  text  ...      tech\n",
              "0    film row over pirates  cannibals  plans to por...  ...  0.103971\n",
              "1    glazer makes new man utd approach malcolm glaz...  ...  0.051226\n",
              "2    benitez joy as reds take control liverpool bos...  ...  0.051499\n",
              "3    connors  rallying cry for british tennis  do y...  ...  0.072043\n",
              "4    ukraine revisits state sell-offs ukraine is pr...  ...  0.053331\n",
              "..                                                 ...  ...       ...\n",
              "440  britons fed up with net service a survey condu...  ...  0.701955\n",
              "441  us duo in first spam conviction a brother and ...  ...  0.447293\n",
              "442  wilkinson return  unlikely  jonny wilkinson lo...  ...  0.009950\n",
              "443  boris opposes mayor apology ken livingstone sh...  ...  0.056249\n",
              "444  us to rule on yukos refuge call yukos has said...  ...  0.023791\n",
              "\n",
              "[445 rows x 8 columns]"
            ]
          },
          "metadata": {
            "tags": []
          },
          "execution_count": 154
        }
      ]
    },
    {
      "cell_type": "markdown",
      "metadata": {
        "id": "KiQ8h2x1GuVh",
        "colab_type": "text"
      },
      "source": [
        "### Evaluate Model"
      ]
    },
    {
      "cell_type": "code",
      "metadata": {
        "id": "A1CbKNPaGttk",
        "colab_type": "code",
        "colab": {
          "base_uri": "https://localhost:8080/",
          "height": 357
        },
        "outputId": "f03f8417-e58d-4079-a576-b97cfefb79af"
      },
      "source": [
        "# Using Test dataset to evaluate model\n",
        "# classification_report\n",
        "# confusion matrix\n",
        "from sklearn.metrics import accuracy_score, confusion_matrix, classification_report\n",
        "\n",
        "# Now apply those above metrics to evaluate your model\n",
        "# Your code here\n",
        "predictions = clf.predict(test[\"text\"])\n",
        "print('accuracy:',accuracy_score(test[\"category\"],predictions))\n",
        "print('confusion matrix:\\n',confusion_matrix(test[\"category\"],predictions))\n",
        "print('classification report:\\n',classification_report(test[\"category\"],predictions))"
      ],
      "execution_count": 160,
      "outputs": [
        {
          "output_type": "stream",
          "text": [
            "accuracy: 0.9820224719101124\n",
            "confusion matrix:\n",
            " [[102   0   1   0   0]\n",
            " [  2  78   0   0   0]\n",
            " [  3   0  82   0   1]\n",
            " [  0   0   0 100   0]\n",
            " [  0   0   1   0  75]]\n",
            "classification report:\n",
            "                precision    recall  f1-score   support\n",
            "\n",
            "     business       0.95      0.99      0.97       103\n",
            "entertainment       1.00      0.97      0.99        80\n",
            "     politics       0.98      0.95      0.96        86\n",
            "        sport       1.00      1.00      1.00       100\n",
            "         tech       0.99      0.99      0.99        76\n",
            "\n",
            "     accuracy                           0.98       445\n",
            "    macro avg       0.98      0.98      0.98       445\n",
            " weighted avg       0.98      0.98      0.98       445\n",
            "\n"
          ],
          "name": "stdout"
        }
      ]
    },
    {
      "cell_type": "markdown",
      "metadata": {
        "id": "FceW66WpPVMn",
        "colab_type": "text"
      },
      "source": [
        "### Fine-tunning"
      ]
    },
    {
      "cell_type": "code",
      "metadata": {
        "id": "fj_4yZtJPXoN",
        "colab_type": "code",
        "colab": {}
      },
      "source": [
        ""
      ],
      "execution_count": 170,
      "outputs": []
    },
    {
      "cell_type": "markdown",
      "metadata": {
        "id": "iWggl-I8OonY",
        "colab_type": "text"
      },
      "source": [
        "### Export models\n"
      ]
    },
    {
      "cell_type": "code",
      "metadata": {
        "id": "TavkKrUUOuv-",
        "colab_type": "code",
        "colab": {}
      },
      "source": [
        "import pickle\n",
        "import os\n",
        "\n",
        "pickle.dump(clf, open('logisticRegression.pkl', 'wb'))"
      ],
      "execution_count": 165,
      "outputs": []
    },
    {
      "cell_type": "code",
      "metadata": {
        "id": "e9hFMWSUO4yO",
        "colab_type": "code",
        "colab": {
          "base_uri": "https://localhost:8080/",
          "height": 419
        },
        "outputId": "6b341492-1aba-4857-9b49-6db09df83474"
      },
      "source": [
        "with open('logisticRegression.pkl', 'rb') as model:\n",
        "    reload_model = pickle.load(model)\n",
        "preds = reload_model.predict_proba(test[\"text\"])\n",
        "\n",
        "p_predict = clf.predict_proba(test[\"text\"])\n",
        "f_predict = clf.predict(test[\"text\"])\n",
        "p_predict = pd.DataFrame(p_predict).reindex().rename(columns={0: \"business\",1: \"entertainment\",2: \"politics\",3: \"sport\",4: \"tech\"}, errors=\"raise\")\n",
        "f_predict = pd.DataFrame(f_predict).rename(columns={0: \"Predict\"}, errors=\"raise\")\n",
        "predict = pd.concat([test[\"text\"].reset_index(), test[\"category\"].reset_index(),f_predict.reindex(),p_predict], axis=1)\n",
        "predict.drop(\"index\", axis=1)"
      ],
      "execution_count": 166,
      "outputs": [
        {
          "output_type": "execute_result",
          "data": {
            "text/html": [
              "<div>\n",
              "<style scoped>\n",
              "    .dataframe tbody tr th:only-of-type {\n",
              "        vertical-align: middle;\n",
              "    }\n",
              "\n",
              "    .dataframe tbody tr th {\n",
              "        vertical-align: top;\n",
              "    }\n",
              "\n",
              "    .dataframe thead th {\n",
              "        text-align: right;\n",
              "    }\n",
              "</style>\n",
              "<table border=\"1\" class=\"dataframe\">\n",
              "  <thead>\n",
              "    <tr style=\"text-align: right;\">\n",
              "      <th></th>\n",
              "      <th>text</th>\n",
              "      <th>category</th>\n",
              "      <th>Predict</th>\n",
              "      <th>business</th>\n",
              "      <th>entertainment</th>\n",
              "      <th>politics</th>\n",
              "      <th>sport</th>\n",
              "      <th>tech</th>\n",
              "    </tr>\n",
              "  </thead>\n",
              "  <tbody>\n",
              "    <tr>\n",
              "      <th>0</th>\n",
              "      <td>film row over pirates  cannibals  plans to por...</td>\n",
              "      <td>entertainment</td>\n",
              "      <td>entertainment</td>\n",
              "      <td>0.147554</td>\n",
              "      <td>0.503423</td>\n",
              "      <td>0.163149</td>\n",
              "      <td>0.081903</td>\n",
              "      <td>0.103971</td>\n",
              "    </tr>\n",
              "    <tr>\n",
              "      <th>1</th>\n",
              "      <td>glazer makes new man utd approach malcolm glaz...</td>\n",
              "      <td>business</td>\n",
              "      <td>business</td>\n",
              "      <td>0.584949</td>\n",
              "      <td>0.065104</td>\n",
              "      <td>0.083181</td>\n",
              "      <td>0.215541</td>\n",
              "      <td>0.051226</td>\n",
              "    </tr>\n",
              "    <tr>\n",
              "      <th>2</th>\n",
              "      <td>benitez joy as reds take control liverpool bos...</td>\n",
              "      <td>sport</td>\n",
              "      <td>sport</td>\n",
              "      <td>0.036478</td>\n",
              "      <td>0.029924</td>\n",
              "      <td>0.028605</td>\n",
              "      <td>0.853494</td>\n",
              "      <td>0.051499</td>\n",
              "    </tr>\n",
              "    <tr>\n",
              "      <th>3</th>\n",
              "      <td>connors  rallying cry for british tennis  do y...</td>\n",
              "      <td>sport</td>\n",
              "      <td>sport</td>\n",
              "      <td>0.048560</td>\n",
              "      <td>0.100787</td>\n",
              "      <td>0.099710</td>\n",
              "      <td>0.678901</td>\n",
              "      <td>0.072043</td>\n",
              "    </tr>\n",
              "    <tr>\n",
              "      <th>4</th>\n",
              "      <td>ukraine revisits state sell-offs ukraine is pr...</td>\n",
              "      <td>business</td>\n",
              "      <td>business</td>\n",
              "      <td>0.739217</td>\n",
              "      <td>0.040972</td>\n",
              "      <td>0.133682</td>\n",
              "      <td>0.032798</td>\n",
              "      <td>0.053331</td>\n",
              "    </tr>\n",
              "    <tr>\n",
              "      <th>...</th>\n",
              "      <td>...</td>\n",
              "      <td>...</td>\n",
              "      <td>...</td>\n",
              "      <td>...</td>\n",
              "      <td>...</td>\n",
              "      <td>...</td>\n",
              "      <td>...</td>\n",
              "      <td>...</td>\n",
              "    </tr>\n",
              "    <tr>\n",
              "      <th>440</th>\n",
              "      <td>britons fed up with net service a survey condu...</td>\n",
              "      <td>tech</td>\n",
              "      <td>tech</td>\n",
              "      <td>0.146796</td>\n",
              "      <td>0.042874</td>\n",
              "      <td>0.061998</td>\n",
              "      <td>0.046377</td>\n",
              "      <td>0.701955</td>\n",
              "    </tr>\n",
              "    <tr>\n",
              "      <th>441</th>\n",
              "      <td>us duo in first spam conviction a brother and ...</td>\n",
              "      <td>tech</td>\n",
              "      <td>tech</td>\n",
              "      <td>0.171570</td>\n",
              "      <td>0.143745</td>\n",
              "      <td>0.134462</td>\n",
              "      <td>0.102929</td>\n",
              "      <td>0.447293</td>\n",
              "    </tr>\n",
              "    <tr>\n",
              "      <th>442</th>\n",
              "      <td>wilkinson return  unlikely  jonny wilkinson lo...</td>\n",
              "      <td>sport</td>\n",
              "      <td>sport</td>\n",
              "      <td>0.008693</td>\n",
              "      <td>0.011042</td>\n",
              "      <td>0.010704</td>\n",
              "      <td>0.959611</td>\n",
              "      <td>0.009950</td>\n",
              "    </tr>\n",
              "    <tr>\n",
              "      <th>443</th>\n",
              "      <td>boris opposes mayor apology ken livingstone sh...</td>\n",
              "      <td>politics</td>\n",
              "      <td>politics</td>\n",
              "      <td>0.069141</td>\n",
              "      <td>0.077108</td>\n",
              "      <td>0.682453</td>\n",
              "      <td>0.115049</td>\n",
              "      <td>0.056249</td>\n",
              "    </tr>\n",
              "    <tr>\n",
              "      <th>444</th>\n",
              "      <td>us to rule on yukos refuge call yukos has said...</td>\n",
              "      <td>business</td>\n",
              "      <td>business</td>\n",
              "      <td>0.902501</td>\n",
              "      <td>0.016935</td>\n",
              "      <td>0.039305</td>\n",
              "      <td>0.017468</td>\n",
              "      <td>0.023791</td>\n",
              "    </tr>\n",
              "  </tbody>\n",
              "</table>\n",
              "<p>445 rows × 8 columns</p>\n",
              "</div>"
            ],
            "text/plain": [
              "                                                  text  ...      tech\n",
              "0    film row over pirates  cannibals  plans to por...  ...  0.103971\n",
              "1    glazer makes new man utd approach malcolm glaz...  ...  0.051226\n",
              "2    benitez joy as reds take control liverpool bos...  ...  0.051499\n",
              "3    connors  rallying cry for british tennis  do y...  ...  0.072043\n",
              "4    ukraine revisits state sell-offs ukraine is pr...  ...  0.053331\n",
              "..                                                 ...  ...       ...\n",
              "440  britons fed up with net service a survey condu...  ...  0.701955\n",
              "441  us duo in first spam conviction a brother and ...  ...  0.447293\n",
              "442  wilkinson return  unlikely  jonny wilkinson lo...  ...  0.009950\n",
              "443  boris opposes mayor apology ken livingstone sh...  ...  0.056249\n",
              "444  us to rule on yukos refuge call yukos has said...  ...  0.023791\n",
              "\n",
              "[445 rows x 8 columns]"
            ]
          },
          "metadata": {
            "tags": []
          },
          "execution_count": 166
        }
      ]
    }
  ]
}